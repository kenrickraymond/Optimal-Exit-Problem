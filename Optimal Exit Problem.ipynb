{
  "cells": [
    {
      "cell_type": "markdown",
      "metadata": {
        "id": "PinQa-oqH41b"
      },
      "source": [
        "# Package Installation"
      ]
    },
    {
      "cell_type": "code",
      "execution_count": 1,
      "metadata": {
        "colab": {
          "base_uri": "https://localhost:8080/"
        },
        "id": "vw9adlITPrsj",
        "outputId": "6b43a692-add4-4408-f9ba-5ac66af5410c",
        "vscode": {
          "languageId": "r"
        }
      },
      "outputs": [
        {
          "name": "stderr",
          "output_type": "stream",
          "text": [
            "Installing package into 'C:/Users/kenri/Documents/R/win-library/4.1'\n",
            "(as 'lib' is unspecified)\n",
            "\n"
          ]
        },
        {
          "name": "stdout",
          "output_type": "stream",
          "text": [
            "package 'pacman' successfully unpacked and MD5 sums checked\n",
            "\n",
            "The downloaded binary packages are in\n",
            "\tC:\\Users\\kenri\\AppData\\Local\\Temp\\Rtmp2tvJu1\\downloaded_packages\n"
          ]
        }
      ],
      "source": [
        "options(repr.plot.width=20, repr.plot.height=10, warn=1)\n",
        "install.packages('pacman')\n",
        "\n",
        "pacman::p_load(readxl, fastGHQuad, stats4)\n",
        "\n",
        "library(readxl)\n",
        "library(fastGHQuad)\n",
        "library(stats4)"
      ]
    },
    {
      "cell_type": "markdown",
      "metadata": {
        "id": "qvzuRfO7ltyP"
      },
      "source": [
        "# Cointegrated Pair"
      ]
    },
    {
      "cell_type": "markdown",
      "metadata": {
        "id": "Hft8-r4nVIbc"
      },
      "source": [
        "The spread of two cointegrated assets is the solution to the following stochastic differential equation\n",
        "\n",
        "$ dU_t = -\\mu  U_tdt + \\sigma dW_t + dN_t $"
      ]
    },
    {
      "cell_type": "code",
      "execution_count": 2,
      "metadata": {
        "id": "gyD8LzPultyV",
        "vscode": {
          "languageId": "r"
        }
      },
      "outputs": [
        {
          "data": {
            "image/png": "[encoded data removed]",
            "text/plain": [
              "plot without title"
            ]
          },
          "metadata": {
            "image/png": {
              "height": 600,
              "width": 1200
            }
          },
          "output_type": "display_data"
        }
      ],
      "source": [
        "df = read_excel(\"cointegratedSpreadAAPL.xlsx\")\n",
        "spread = df[, 2][[1]][1:780]\n",
        "plot(spread, type='l')\n",
        "\n",
        "# Vertical lines indicate days\n",
        "vline = as.numeric(seq(0, length(spread), by = 390))\n",
        "abline(v = vline, col='gray', lty=2)"
      ]
    },
    {
      "cell_type": "markdown",
      "metadata": {
        "id": "icrxGmcQltyb"
      },
      "source": [
        "# Jump Detection & Estimation"
      ]
    },
    {
      "cell_type": "markdown",
      "metadata": {
        "id": "yLxB1BiBltyc"
      },
      "source": [
        "We apply the method in Fonseca & Ignatieva (2019) for daily jump detection. \n",
        "\n",
        "Let $r_{t,i} = y_{t, i\\Delta} - y_{t, (i-1)\\Delta}$. \n",
        "\n",
        "We consider the RV for each day, which has 390 observations."
      ]
    },
    {
      "cell_type": "code",
      "execution_count": 3,
      "metadata": {
        "id": "Qt_yQRDxltyd",
        "vscode": {
          "languageId": "r"
        }
      },
      "outputs": [],
      "source": [
        "m = 390\n",
        "delta = 1 / m\n",
        "noObs = ceiling(seq_along(spread)/m)\n",
        "\n",
        "# Split the dataset per m observations\n",
        "spreadInterval = split(spread, noObs)\n",
        "\n",
        "rtInterval = array()\n",
        "noInterval = length(spreadInterval)\n",
        "\n",
        "# Calculates for the differenced series rtInterval\n",
        "for (i in 1: noInterval) {\n",
        "\n",
        "    rtInterval[i] = list(diff(spreadInterval[[i]]))\n",
        "}"
      ]
    },
    {
      "cell_type": "markdown",
      "metadata": {},
      "source": [
        "The realized variance (RV) is given by\n",
        "\n",
        "##### $ RV = \\sum_{i=1}^m r_{t,i}^2 $, "
      ]
    },
    {
      "cell_type": "code",
      "execution_count": 4,
      "metadata": {
        "id": "uLDVcq5Oltyg",
        "vscode": {
          "languageId": "r"
        }
      },
      "outputs": [],
      "source": [
        "# This type of loop will be used repeatedly throughout the code.\n",
        "realizedVarInterval = array()\n",
        "\n",
        "# Calculates RV\n",
        "for (i in 1: noInterval) {\n",
        "\n",
        "    # Resets the productTemp array for each subset    \n",
        "    productTemp = array()\n",
        "\n",
        "    # Iterates over each observation in rtInterval to get the sum (incase the number of observations are not the same everyday)\n",
        "    for (k in 1: length(rtInterval[[i]])) {\n",
        "\n",
        "        productTemp[k] =  ( rtInterval[[i]][k] )^2\n",
        "    }\n",
        "\n",
        "    realizedVarInterval[i] = sum(na.omit(productTemp))\n",
        "}\n",
        "\n",
        "realizedVarInterval = na.omit(realizedVarInterval)"
      ]
    },
    {
      "cell_type": "markdown",
      "metadata": {
        "id": "mqSw0ODAltyj"
      },
      "source": [
        "The realized bipower variation (BV) is given by\n",
        "\n",
        "##### $BV = \\frac{\\pi}{2} \\frac{m}{m-1} \\sum_{i=2}^m |r_{t,i}| |r_{t,i-1}| $"
      ]
    },
    {
      "cell_type": "code",
      "execution_count": 5,
      "metadata": {
        "id": "S42V9pk2ltyk",
        "vscode": {
          "languageId": "r"
        }
      },
      "outputs": [],
      "source": [
        "sumInterval = array()\n",
        "bipowerVarInterval = array()\n",
        "\n",
        "# Calculates BV\n",
        "for (i in 1: noInterval) {\n",
        "  \n",
        "    productTemp = array()\n",
        "\n",
        "    for (k in 2: length(rtInterval[[i]])) {\n",
        "\n",
        "        productTemp[k] =  abs(rtInterval[[i]][k]) * abs(rtInterval[[i]][k-1]) \n",
        "    }\n",
        "\n",
        "    sumInterval[i] = sum(na.omit(productTemp))\n",
        "    bipowerVarInterval[i] = (pi / 2) * m / (m-1) * sumInterval[[i]]\n",
        "}\n",
        "\n",
        "bipowerVarInterval = na.omit(bipowerVarInterval)"
      ]
    },
    {
      "cell_type": "markdown",
      "metadata": {
        "id": "dDZTce2Kltym"
      },
      "source": [
        "Next, we calculate the magnitude of the jumps. The test statistic is given by \n",
        "##### $RJ = \\frac{RV-BV}{RV}$"
      ]
    },
    {
      "cell_type": "code",
      "execution_count": 6,
      "metadata": {
        "id": "jc9zFvKkltyn",
        "vscode": {
          "languageId": "r"
        }
      },
      "outputs": [],
      "source": [
        "RJV = realizedVarInterval - bipowerVarInterval\n",
        "RJ = RJV / realizedVarInterval"
      ]
    },
    {
      "cell_type": "markdown",
      "metadata": {
        "id": "mLz6qcj1ltyp"
      },
      "source": [
        "Let TP be the tripower quarticity that is robust to jumps, \n",
        "\n",
        "##### $\\mu_{4/3} = 2^{2/3} \\frac{\\Gamma( (7/6)))}{\\Gamma(1/2)} $\n",
        "\n",
        "##### $TP = m \\mu_{4/3}^{-3} \\frac{m}{m-2} \\sum_{t=3}^m |r_{t, i-2}|^{4/3} |r_{t, i-1}|^{4/3} |r_{t,i}|^{4/3} $"
      ]
    },
    {
      "cell_type": "code",
      "execution_count": 7,
      "metadata": {
        "id": "ZGMdtUJ2ltyq",
        "vscode": {
          "languageId": "r"
        }
      },
      "outputs": [],
      "source": [
        "tripowerInterval = array()\n",
        "mu = (2^(2/3)) * gamma(7/6) / gamma(1/2)\n",
        "\n",
        "# Calculates TP\n",
        "for (i in 1:  length(rtInterval)) {\n",
        "    \n",
        "    productTemp = array()\n",
        "\n",
        "    for (k in 3: length(rtInterval[[i]])) {\n",
        "\n",
        "        productTemp[k] = abs(rtInterval[[i]][k-2])^(4/3) * abs(rtInterval[[i]][k-1])^(4/3) * abs(rtInterval[[i]][k])^(4/3)\n",
        "    }\n",
        "\n",
        "    sumInterval[i] = sum(na.omit(productTemp))\n",
        "    tripowerInterval[i] = m * (mu)^(-3) * m / (m-2) * sumInterval[[i]]\n",
        "}"
      ]
    },
    {
      "cell_type": "markdown",
      "metadata": {
        "id": "98-rXKx1ltys"
      },
      "source": [
        "The test statistic converges in distribution to a Gaussian distribution when we use the scaling:\n",
        "\n",
        " ##### $ZJ_t = \\frac{RJ_t}{\\sqrt{ [ (\\frac{\\pi}{2})^2 + \\pi -5] \\Delta Max(1, \\frac{TP_t}{BV_t^2}) } } $"
      ]
    },
    {
      "cell_type": "code",
      "execution_count": 8,
      "metadata": {
        "id": "8rxrWjFvltys",
        "vscode": {
          "languageId": "r"
        }
      },
      "outputs": [],
      "source": [
        "ZJ = array()\n",
        "\n",
        "# Calculates for ZJ\n",
        "for (i in 1:length(RJ)) {\n",
        "    \n",
        "    ZJ[i] = RJ[i] / ( ( (pi/2)^2 + pi - 5) * delta * max(1, tripowerInterval[i]/bipowerVarInterval[i]) )^(1/2)\n",
        "}"
      ]
    },
    {
      "cell_type": "markdown",
      "metadata": {
        "id": "E83MZq4zltyt"
      },
      "source": [
        "The magnitude of the jump Jt is given by\n",
        "\n",
        "##### $J_t = sign(r_t) \\times \\sqrt{ (RV- BV) \\times I_{ZJ \\ge \\Phi_\\alpha^{-1}} }$\n",
        "\n",
        "since $r_{t,i} = y_{t,i\\Delta} - y_{t, (i-1)\\Delta} $, I assume that $r_t = y_t - y_{t-1} $,  where $y_t = dailyreturn_{t} - dailyreturn_{t-1} $  "
      ]
    },
    {
      "cell_type": "code",
      "execution_count": 9,
      "metadata": {
        "id": "TWNxnTfXltyt",
        "vscode": {
          "languageId": "r"
        }
      },
      "outputs": [],
      "source": [
        "# Computes for the sign of rt\n",
        "retCurrent = array()\n",
        "retPrevious = array()\n",
        "ret = array()\n",
        "\n",
        "# for interval 1 we take sign(rt) = sign[ day one's (spread_10 - spread_1) ]\n",
        "intervalOne = sign( spreadInterval[[1]][length(spreadInterval[[1]])] - spreadInterval[[1]][1] )\n",
        "ocSpread = array(intervalOne) \n",
        "\n",
        "# Computes for the spread as the difference between the the second interval's start price and the previous interval's ending price\n",
        "for (i in 2: noInterval) {\n",
        "\n",
        "    # calculate the return on day t (y_t)\n",
        "    retCurrent[i] =  spreadInterval[[i]][length(spreadInterval[[i]])] - spreadInterval[[i]][1]\n",
        "    retPrevious[i] = spreadInterval[[i-1]][length(spreadInterval[[i-1]])] - spreadInterval[[i-1]][1]\n",
        "    ret[i] = retCurrent[i] - retPrevious[i]\n",
        "\n",
        "    rt = append(ocSpread, ret)\n",
        "}\n",
        "\n",
        "sign = sign(na.omit(rt))"
      ]
    },
    {
      "cell_type": "code",
      "execution_count": 10,
      "metadata": {
        "id": "1DVYpnHhltyu",
        "vscode": {
          "languageId": "r"
        }
      },
      "outputs": [],
      "source": [
        "# This is a Monte Carlo method to calculate the area under the inverse normal cumulative distribution function. \n",
        "alpha = 0.50\n",
        "x = rnorm(100000, 0, 1)\n",
        "pdf = density(x)\n",
        "\n",
        "# Interpolate the density\n",
        "f = approxfun(pdf$x, pdf$y, yleft=0, yright=0)\n",
        "\n",
        "# Get the cdf by numeric integration\n",
        "cdf = function(x){\n",
        "\n",
        "  integrate(f, -Inf, x)$value\n",
        "}\n",
        "\n",
        "# Use a root finding function to invert the cdf\n",
        "invcdf = function(q){\n",
        "\n",
        "  uniroot(function(x){cdf(x) - q}, range(x))$root\n",
        "}\n",
        "\n",
        "threshold = as.numeric(invcdf(alpha))\n",
        "\n",
        "# Let ZJ be the indicator function, we replace non-statistically significant values with zero.\n",
        "for (i in 1:  length(ZJ)) {\n",
        "    \n",
        "    if (ZJ[i] > threshold) {\n",
        "\n",
        "        ZJ[i] = 1\n",
        "    }\n",
        "\n",
        "    else {\n",
        "        ZJ[i] = 0\n",
        "    }\n",
        "}\n",
        "\n",
        "JT = sign * ( RJV * ZJ )^(1/2)"
      ]
    },
    {
      "cell_type": "markdown",
      "metadata": {
        "id": "KCBVofQ7ltyv"
      },
      "source": [
        "# Removing the Jumps from the process"
      ]
    },
    {
      "cell_type": "markdown",
      "metadata": {
        "id": "tR-lji-xltyv"
      },
      "source": [
        "We assume that if a jump was detected on day t, then the jump occured in between the close price of interval t-1 and the open price of interval t. Thus, the jump affected the opening price of interval t"
      ]
    },
    {
      "cell_type": "code",
      "execution_count": 11,
      "metadata": {
        "id": "-C1WxOcZltyw",
        "vscode": {
          "languageId": "r"
        }
      },
      "outputs": [
        {
          "data": {
            "image/png": "[encoded data removed]",
            "text/plain": [
              "plot without title"
            ]
          },
          "metadata": {
            "image/png": {
              "height": 600,
              "width": 1200
            }
          },
          "output_type": "display_data"
        }
      ],
      "source": [
        "# Remove the jumps by subtracting the magnitude of the jump to the first price at interval t\n",
        "jumpInterval = which(JT!=0, arr.ind = T)\n",
        "\n",
        "# Replaces the price with (price - jump) on jumpInterval\n",
        "for (i in 1:  length(spreadInterval)) {\n",
        "    \n",
        "    if (i %in% jumpInterval) {\n",
        "        spreadInterval[[i]] = replace(spreadInterval[[i]], 1, spreadInterval[[i]][1] - JT[i])\n",
        "    }\n",
        "}\n",
        "\n",
        "# The frequency lambda is given by the number of days where a jump occurs divided by the total number of days\n",
        "lambda = length(jumpInterval) / noInterval\n",
        "\n",
        "# Let k be the size of the jumps\n",
        "k = mean(JT)\n",
        "\n",
        "removedJumpProcess = unlist(spreadInterval)\n",
        "plot(removedJumpProcess - spread)"
      ]
    },
    {
      "cell_type": "markdown",
      "metadata": {},
      "source": [
        "# Estimation of Parameters\n",
        "\n",
        "Now that we have removed the jumps, we have a standard diffusion process of the form\n",
        "\n",
        "##### $ dU_t = -\\mu U_tdt + \\sigma dW_t $"
      ]
    },
    {
      "cell_type": "code",
      "execution_count": 12,
      "metadata": {
        "vscode": {
          "languageId": "r"
        }
      },
      "outputs": [
        {
          "data": {
            "text/html": [
              "<style>\n",
              ".dl-inline {width: auto; margin:0; padding: 0}\n",
              ".dl-inline>dt, .dl-inline>dd {float: none; width: auto; display: inline-block}\n",
              ".dl-inline>dt::after {content: \":\\0020\"; padding-right: .5ex}\n",
              ".dl-inline>dt:not(:first-of-type) {padding-left: .5ex}\n",
              "</style><dl class=dl-inline><dt>theta1</dt><dd>0.232837192981883</dd><dt>theta2</dt><dd>0.681512733679996</dd></dl>\n"
            ],
            "text/latex": [
              "\\begin{description*}\n",
              "\\item[theta1] 0.232837192981883\n",
              "\\item[theta2] 0.681512733679996\n",
              "\\end{description*}\n"
            ],
            "text/markdown": [
              "theta1\n",
              ":   0.232837192981883theta2\n",
              ":   0.681512733679996\n",
              "\n"
            ],
            "text/plain": [
              "   theta1    theta2 \n",
              "0.2328372 0.6815127 "
            ]
          },
          "metadata": {},
          "output_type": "display_data"
        }
      ],
      "source": [
        "checkOU <- function(theta){\n",
        "  if(theta[1]<=0) message(\"\\nthe process is not stationary\\n\")\n",
        "  if(theta[2]<=0) stop(\"variance must be positive\")\n",
        "}\n",
        "\n",
        "mydsOU <- function(x, theta, log = FALSE){\n",
        "  checkOU(theta)\n",
        "  dnorm(x, mean=0, sd=theta[2]/sqrt(2*theta[1]), log=log)\n",
        "}\n",
        "\n",
        " ou.lik = function(x) {\n",
        "\n",
        "  function(theta1, theta2) {\n",
        "    \n",
        "    n = length(x)\n",
        "    dt = deltat(x)\n",
        "\n",
        "    -sum(mydsOU(x = x[2:n],\n",
        "      theta = c(theta1, theta2), log=TRUE))\n",
        "  }\n",
        "}\n",
        "\n",
        "ou.fit = mle(ou.lik(spread),\n",
        "          start = list(theta1 = 0.2, theta2 = 0.7),\n",
        "          method=\"L-BFGS-B\")\n",
        "  \n",
        "ou.coe = coef(ou.fit)\n",
        "ou.coe\n",
        "\n",
        "mu = ou.coe[[1]]\n",
        "sigma = ou.coe[[2]]"
      ]
    },
    {
      "cell_type": "markdown",
      "metadata": {},
      "source": [
        "# Numerical Solution"
      ]
    },
    {
      "cell_type": "markdown",
      "metadata": {},
      "source": [
        "Our Goal is to find $\\beta$ and $v(x_i)$ by solving the free-boundary problem\n",
        "\n",
        "$ L v = f, \\quad  x \\in (\\alpha, \\beta) $\n",
        "\n",
        "$ v(x) = 0, \\quad x \\notin (\\alpha, \\beta) $\n",
        "\n",
        "where $f(x) = - \\mu x$ and then fix $\\alpha < 0$ to find $\\beta > \\alpha$ such that $v'(\\beta) = 0$"
      ]
    },
    {
      "cell_type": "markdown",
      "metadata": {},
      "source": [
        "Our approach is to solve the linear complementarity problem given by\n",
        "\n",
        "$ (L v-f)(v- \\phi) = 0, $\n",
        "\n",
        "$L v-f \\ge 0, \\quad v- \\phi \\ge 0, $\n",
        "\n",
        "$ v(\\alpha) = v(\\beta) = 0 $\n",
        "\n",
        "a.e. on $[\\alpha, \\beta)$ and with the condition\n",
        "\n",
        "$ v(x) = \\phi(x).$"
      ]
    },
    {
      "cell_type": "code",
      "execution_count": 13,
      "metadata": {
        "vscode": {
          "languageId": "r"
        }
      },
      "outputs": [],
      "source": [
        "# Discretization of the price\n",
        "xmin = min(spread)\n",
        "xmax = max(spread)\n",
        "Nx = 780\n",
        "dx = (xmax - xmin)/Nx\n",
        "x = spread\n",
        "f = - mu * x\n",
        "\n",
        "# Evaluates if alpha had been hit during the process and cuts the spread until the first hitting time of alpha\n",
        "alpha = -4\n",
        "alphaSpread = spread\n",
        "\n",
        "alphaSpread[alphaSpread < alpha] = 0\n",
        "alphaIndex = which(alphaSpread == 0)[1]\n",
        "# if alphaIndex returns NA, we set the value to zero.\n",
        "alphaIndex[ is.na(alphaIndex) ] = 0\n",
        "\n",
        "if (alphaIndex != 0) {\n",
        "    \n",
        "    plot(spread, type='l', main=\"Alpha Hitting Time\")\n",
        "    abline(v = alphaIndex)\n",
        "\n",
        "    spread = spread[1:alphaIndex]\n",
        "    alpha = spread[alphaIndex][1]\n",
        "}"
      ]
    },
    {
      "cell_type": "markdown",
      "metadata": {},
      "source": [
        "We apply the finite differences method defined below for non-jump components\n",
        "\n",
        "$  v'(x_i) \\approx \\dfrac{v(x_{i}) - v(x_{i-1})}{\\Delta x}  $\n",
        "\n",
        "\n",
        "$ v''(x_i) \\approx \\dfrac{v(x_{i+1}) - 2v(x_i) + v(x_{i-1})}{(\\Delta x)^2} $"
      ]
    },
    {
      "cell_type": "code",
      "execution_count": 14,
      "metadata": {
        "vscode": {
          "languageId": "r"
        }
      },
      "outputs": [],
      "source": [
        "sigma2 = sigma^2\n",
        "dx2 = dx^2\n",
        "A = matrix(0, nrow=length(spread), ncol=length(spread))\n",
        "\n",
        "for (i in 1: length(spread)-1){\n",
        "    a = -mu * x[i] / dx - 1/2 * sigma2 / dx2 # -1 diagonal\n",
        "    c = -1/2 * sigma2 / dx2 # +1 diagonal\n",
        "\n",
        "    A[i,i+1] = c\n",
        "    A[i+1,i] = a\n",
        "}\n",
        "\n",
        "b = mu * x / dx + sigma2 / dx2 # main diagonal\n",
        "\n",
        "# The array concatenation is for the case when alpha is hit\n",
        "diag(A) = b[1:length(spread)]"
      ]
    },
    {
      "cell_type": "markdown",
      "metadata": {},
      "source": [
        "To solve the integral term $\\int_{-\\infty}^{\\infty}[v(x+y)-v(x))] \\varphi(y) d y$, we apply Gauss-Hermite Quadrature and approximate using the following\n",
        "\n",
        "$ \\int_{-\\infty}^\\infty v(x_i)\\varphi(y) d y \\approx \\sum_{j=1}^L w_j v(x_i) $\n",
        "\n",
        "$ \\int_{-\\infty}^\\infty v(x_i+y)\\varphi(y)d y  \\approx \\sum_{j=1}^L w_j v(x_i + y_j) $"
      ]
    },
    {
      "cell_type": "code",
      "execution_count": 15,
      "metadata": {
        "vscode": {
          "languageId": "r"
        }
      },
      "outputs": [],
      "source": [
        "# Define the Integral Solver Function\n",
        "# Set 3000 nodes for gauss-hermite quadrature\n",
        "rule = gaussHermiteData(3000)\n",
        "jumpIndex = which(removedJumpProcess[1:length(spread)] - spread != 0)\n",
        "\n",
        "integralSolve = function(previousV) {\n",
        "\n",
        "    # Used to generate v(x_i) in quadrature\n",
        "    sequenceX = seq(previousV)\n",
        "\n",
        "    # Used to generate v(x_i + y_j) in quadrature\n",
        "    sequenceXPlusY = seq(previousV)\n",
        "\n",
        "    # Calculates (x+y) where y_i is the magnitude of the jump at index i\n",
        "    for (i in 1:length(jumpIndex)) {\n",
        "        \n",
        "        sequenceXPlusY[jumpIndex[i]] = sequenceXPlusY[jumpIndex[i]] + JT[i]  \n",
        "    }\n",
        "    \n",
        "    # interpolates a polynomial for v(x_i) and v(x_i + y_j)\n",
        "    splinePoly = splinefun(sequenceX, previousV, method=\"fmm\")\n",
        "    splinePolyPlusy = splinefun(sequenceXPlusY, previousV, method=\"fmm\")\n",
        "\n",
        "    # Calculates the value of the integral from -inf to inf [ f(x) * e^{-x^2} ]\n",
        "    vOfX = ghQuad(splinePoly, rule) \n",
        "    vOfXPlusY = ghQuad(splinePolyPlusy, rule)\n",
        "\n",
        "    integral = vOfXPlusY - vOfX\n",
        "    return(integral)\n",
        "}"
      ]
    },
    {
      "cell_type": "markdown",
      "metadata": {},
      "source": [
        "We set an initial value for $v^0(x_i)$ at the first iteration and iteratively solve the system $Av^k = f^k$, where $k$ denotes the k'th iteration until the error is sufficiently small. The integral term is incorporated in $f^k$."
      ]
    },
    {
      "cell_type": "code",
      "execution_count": 16,
      "metadata": {
        "vscode": {
          "languageId": "r"
        }
      },
      "outputs": [
        {
          "data": {
            "image/png": "[encoded data removed]",
            "text/plain": [
              "Plot with title \"Graph of v\""
            ]
          },
          "metadata": {
            "image/png": {
              "height": 600,
              "width": 1200
            }
          },
          "output_type": "display_data"
        },
        {
          "data": {
            "image/png": "[encoded data removed]",
            "text/plain": [
              "Plot with title \"Graph of The First Derivative of v\""
            ]
          },
          "metadata": {
            "image/png": {
              "height": 600,
              "width": 1200
            }
          },
          "output_type": "display_data"
        }
      ],
      "source": [
        "# For iteration k = 0\n",
        "epsilon = 0.1\n",
        "threshold = 1e-10\n",
        "\n",
        "# Initialize variables for sequence k=1 and solve for v^1(x)\n",
        "initialIter = 0.5\n",
        "vZero = array(initialIter, length(spread))\n",
        "\n",
        "integral = integralSolve(vZero)\n",
        "fk = f[1:length(spread)] + lambda * integral\n",
        "newV = solve(A, fk)\n",
        "\n",
        "# For iteration k >= 1\n",
        "while (epsilon > threshold) {\n",
        "\n",
        "    # Saves the oldV to be used in the calculation of epsilon\n",
        "    oldV = newV\n",
        "    integral = integralSolve(newV)\n",
        "    fk = f[1:length(spread)] + lambda * integral\n",
        "\n",
        "    # Solves the system Av^k = f^k\n",
        "    newV = solve(A, fk)\n",
        "    epsilon = max(newV - oldV)\n",
        "}\n",
        "\n",
        "v = newV\n",
        "\n",
        "plot(v, main = 'Graph of v', type = 'l')\n",
        "plot(diff(v), main = 'Graph of The First Derivative of v', type = 'l')"
      ]
    },
    {
      "cell_type": "markdown",
      "metadata": {},
      "source": [
        "The terminal boundary condition is given by\n",
        "\n",
        "$ v'(\\beta) = 0 $,\n",
        "\n",
        "and\n",
        "\n",
        "$ v(x) = 0, \\quad x \\notin (\\alpha,\\beta)$"
      ]
    },
    {
      "cell_type": "code",
      "execution_count": 17,
      "metadata": {
        "vscode": {
          "languageId": "r"
        }
      },
      "outputs": [
        {
          "data": {
            "image/png": "[encoded data removed]",
            "text/plain": [
              "Plot with title \"Exit Point\""
            ]
          },
          "metadata": {
            "image/png": {
              "height": 600,
              "width": 1200
            }
          },
          "output_type": "display_data"
        }
      ],
      "source": [
        "vThreshold = 1e-3\n",
        "vZeros = which(abs(v) < vThreshold)\n",
        "\n",
        "vPrime = diff(v)\n",
        "vPrimeThreshold = 1e-1\n",
        "vPrimeZeros = which(abs(vPrime) < vPrimeThreshold)\n",
        "\n",
        "candidateExitPoint = intersect(vZeros, vPrimeZeros)\n",
        "\n",
        "plot(spread, type = 'l', main = 'Exit Point')\n",
        "abline(v = candidateExitPoint)"
      ]
    }
  ],
  "metadata": {
    "accelerator": "GPU",
    "colab": {
      "collapsed_sections": [
        "PinQa-oqH41b"
      ],
      "name": "estimationJDM.ipynb",
      "provenance": []
    },
    "interpreter": {
      "hash": "2a50ec7a41988ee44e1856be55511bd84acbe6f7caee7f2a2db1689ebe1ae18c"
    },
    "kernelspec": {
      "display_name": "R 3.3",
      "language": "R",
      "name": "ir33"
    },
    "language_info": {
      "codemirror_mode": "r",
      "file_extension": ".r",
      "mimetype": "text/x-r-source",
      "name": "R",
      "pygments_lexer": "r",
      "version": "4.1.0"
    }
  },
  "nbformat": 4,
  "nbformat_minor": 0
}
